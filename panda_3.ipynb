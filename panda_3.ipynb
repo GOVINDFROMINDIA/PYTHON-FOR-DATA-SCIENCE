{
  "nbformat": 4,
  "nbformat_minor": 0,
  "metadata": {
    "colab": {
      "provenance": [],
      "collapsed_sections": [],
      "authorship_tag": "ABX9TyOBJo20arOGamXuiNxSlx+U",
      "include_colab_link": true
    },
    "kernelspec": {
      "name": "python3",
      "display_name": "Python 3"
    },
    "language_info": {
      "name": "python"
    }
  },
  "cells": [
    {
      "cell_type": "markdown",
      "metadata": {
        "id": "view-in-github",
        "colab_type": "text"
      },
      "source": [
        "<a href=\"https://colab.research.google.com/github/GOVINDFROMINDIA/PYTHON-FOR-DATA-SCIENCE/blob/pandas/panda_3.ipynb\" target=\"_parent\"><img src=\"https://colab.research.google.com/assets/colab-badge.svg\" alt=\"Open In Colab\"/></a>"
      ]
    },
    {
      "cell_type": "code",
      "execution_count": null,
      "metadata": {
        "id": "96n16XU_s8V_",
        "colab": {
          "base_uri": "https://localhost:8080/"
        },
        "outputId": "394773d3-fff5-4669-dd68-b78bfe6500ad"
      },
      "outputs": [
        {
          "output_type": "stream",
          "name": "stdout",
          "text": [
            "14360 size \n",
            "\n",
            "Index(['Price', 'Age', 'KM', 'FuelType', 'HP', 'MetColor', 'Automatic', 'CC',\n",
            "       'Doors', 'Weight'],\n",
            "      dtype='object') columns\n",
            "(1436, 10) column,row\n",
            "Index        11488\n",
            "Price        11488\n",
            "Age          11488\n",
            "KM           11488\n",
            "FuelType     11488\n",
            "HP           11488\n",
            "MetColor     11488\n",
            "Automatic    11488\n",
            "CC           11488\n",
            "Doors        11488\n",
            "Weight       11488\n",
            "dtype: int64 memory\n",
            "      Price   Age     KM FuelType   HP  MetColor  Automatic    CC  Doors  \\\n",
            "0     13500  23.0  46986   Diesel   90       1.0          0  2000  three   \n",
            "1     13750  23.0  72937   Diesel   90       1.0          0  2000      3   \n",
            "2     13950  24.0  41711   Diesel   90       NaN          0  2000      3   \n",
            "3     14950  26.0  48000   Diesel   90       0.0          0  2000      3   \n",
            "4     13750  30.0  38500   Diesel   90       0.0          0  2000      3   \n",
            "...     ...   ...    ...      ...  ...       ...        ...   ...    ...   \n",
            "1431   7500   NaN  20544   Petrol   86       1.0          0  1300      3   \n",
            "1432  10845  72.0     ??   Petrol   86       0.0          0  1300      3   \n",
            "1433   8500   NaN  17016   Petrol   86       0.0          0  1300      3   \n",
            "1434   7250  70.0     ??      NaN   86       1.0          0  1300      3   \n",
            "1435   6950  76.0      1   Petrol  110       0.0          0  1600      5   \n",
            "\n",
            "      Weight  \n",
            "0       1165  \n",
            "1       1165  \n",
            "2       1165  \n",
            "3       1165  \n",
            "4       1170  \n",
            "...      ...  \n",
            "1431    1025  \n",
            "1432    1015  \n",
            "1433    1015  \n",
            "1434    1015  \n",
            "1435    1114  \n",
            "\n",
            "[1436 rows x 10 columns]\n"
          ]
        }
      ],
      "source": [
        "import os\n",
        "import pandas as pd\n",
        "import numpy as np\n",
        "\n",
        "os.chdir(\"/content\")\n",
        "cars_data=pd.read_csv('toyota.csv',index_col=0)  #indexing unnamed as index column\n",
        "\n",
        "\n",
        "print(cars_data)\n",
        "\n"
      ]
    }
  ]
}