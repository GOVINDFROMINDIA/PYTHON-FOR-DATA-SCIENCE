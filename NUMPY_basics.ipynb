{
  "nbformat": 4,
  "nbformat_minor": 0,
  "metadata": {
    "colab": {
      "provenance": [],
      "authorship_tag": "ABX9TyNc2nSyPpSm4iOjHjZJ954K",
      "include_colab_link": true
    },
    "kernelspec": {
      "name": "python3",
      "display_name": "Python 3"
    },
    "language_info": {
      "name": "python"
    }
  },
  "cells": [
    {
      "cell_type": "markdown",
      "metadata": {
        "id": "view-in-github",
        "colab_type": "text"
      },
      "source": [
        "<a href=\"https://colab.research.google.com/github/GOVINDFROMINDIA/PYTHON-FOR-DATA-SCIENCE/blob/main/NUMPY_basics.ipynb\" target=\"_parent\"><img src=\"https://colab.research.google.com/assets/colab-badge.svg\" alt=\"Open In Colab\"/></a>"
      ]
    },
    {
      "cell_type": "code",
      "execution_count": 8,
      "metadata": {
        "colab": {
          "base_uri": "https://localhost:8080/"
        },
        "id": "Nfjv8DZXN0RU",
        "outputId": "8ce4479a-fefa-4ef9-8573-e14361f9ff7d"
      },
      "outputs": [
        {
          "output_type": "stream",
          "name": "stdout",
          "text": [
            "Looking in indexes: https://pypi.org/simple, https://us-python.pkg.dev/colab-wheels/public/simple/\n",
            "Requirement already satisfied: numpy in /usr/local/lib/python3.7/dist-packages (1.21.6)\n",
            "[[  1   2   3   4   5   6   7   8   9  10]\n",
            " [ 10  20  30  40  50  60  70  80  90 100]]\n",
            "<class 'numpy.ndarray'>\n",
            "2\n",
            "2\n",
            "(2, 10)\n",
            "[[  1   2   3   4   5]\n",
            " [  6   7   8   9  10]\n",
            " [ 10  20  30  40  50]\n",
            " [ 60  70  80  90 100]]\n",
            "(4, 5)\n",
            "[[  1   2   3   4   5   6   7   8   9  10  10  20  30  40  50  60  70  80\n",
            "   90 100]]\n",
            "(1, 20)\n"
          ]
        }
      ],
      "source": [
        "from numpy.core.fromnumeric import shape\n",
        "!pip install numpy\n",
        "import numpy as np\n",
        "my_list=[(1,2,3,4,5,6,7,8,9,10),(10,20,30,40,50,60,70,80,90,100)]\n",
        "array = np.array(my_list, dtype =int)\n",
        "print(array)\n",
        "\n",
        "print(type(array))\n",
        "print(len(array))\n",
        "print(array.ndim)\n",
        "print(array.shape)\n",
        "\n",
        "array2= array.reshape(4,5)\n",
        "print(array2)\n",
        "print(array2.shape)\n",
        "\n",
        "array3= array.reshape(1,-1)  #-1 is used if other thing is unknown\n",
        "print(array3)\n",
        "print(array3.shape) "
      ]
    }
  ]
}